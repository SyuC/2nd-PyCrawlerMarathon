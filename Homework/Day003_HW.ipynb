{
 "cells": [
  {
   "cell_type": "markdown",
   "metadata": {},
   "source": [
    "# Python 下載XML檔案與解析\n",
    "\n",
    "\n",
    "* 了解 xml 檔案格式與內容\n",
    "* 能夠利用套件存取 xml 格式的檔案\n"
   ]
  },
  {
   "cell_type": "markdown",
   "metadata": {},
   "source": [
    "## 作業目標\n",
    "\n",
    "* 比較一下範例檔案中的「File I/O」與「xmltodict」讀出來的內容有什麼差異\n",
    "\n",
    "* 根據範例檔案的結果：\n",
    "    1. 請問高雄市有多少地區有溫度資料？\n",
    "    2. 請取出每一個地區所記錄的第一個時間點跟溫度\n",
    "    3. 請取出第一個地區所記錄的每一個時間點跟溫度"
   ]
  },
  {
   "cell_type": "markdown",
   "metadata": {},
   "source": [
    "### 比較一下範例檔案中的「File I/O」與「xmltodict」讀出來的內容有什麼差異\n"
   ]
  },
  {
   "cell_type": "code",
   "execution_count": 89,
   "metadata": {},
   "outputs": [
    {
     "name": "stdout",
     "output_type": "stream",
     "text": [
      "<?xml version=\"1.0\" encoding=\"UTF-8\"?>\n",
      "<CUPOY>\n",
      "    <Title>爬蟲馬拉松</Title>\n",
      "    <Author>Wei</Author>\n",
      "    <Chapters>\n",
      "        <Chapter name=\"01\">資料來源與存取</Chapter>\n",
      "        <Chapter name=\"02\">靜態網頁爬蟲</Chapter>\n",
      "        <Chapter name=\"03\">動態網頁爬蟲</Chapter>\n",
      "    </Chapters>\n",
      "</CUPOY>\n"
     ]
    }
   ],
   "source": [
    "with open('../Data/sample.xml') as f:\n",
    "    print(f.read())"
   ]
  },
  {
   "cell_type": "code",
   "execution_count": 9,
   "metadata": {},
   "outputs": [
    {
     "name": "stdout",
     "output_type": "stream",
     "text": [
      "爬蟲馬拉松\n",
      "01 資料來源與存取\n",
      "02 靜態網頁爬蟲\n",
      "03 動態網頁爬蟲\n"
     ]
    }
   ],
   "source": [
    "import xml.dom.minidom\n",
    "doc = xml.dom.minidom.parse('../Data/sample.xml')\n",
    "print(doc.getElementsByTagName('Title')[0].firstChild.nodeValue)\n",
    "Chapters = doc.getElementsByTagName('Chapter')\n",
    "for Chapter in Chapters:\n",
    "    print(Chapter.getAttribute('name'), Chapter.firstChild.nodeValue)"
   ]
  },
  {
   "cell_type": "code",
   "execution_count": 9,
   "metadata": {},
   "outputs": [
    {
     "name": "stdout",
     "output_type": "stream",
     "text": [
      "爬蟲馬拉松\n",
      "01 資料來源與存取\n",
      "02 靜態網頁爬蟲\n",
      "03 動態網頁爬蟲\n"
     ]
    }
   ],
   "source": [
    "import xml.etree.ElementTree as et\n",
    "tree = et.parse('../Data/sample.xml')\n",
    "root = tree.getroot()\n",
    "print(root[0].text)\n",
    "Chapters = root[2]\n",
    "for Chapter in Chapters:\n",
    "    print(Chapter.attrib['name'], Chapter.text)"
   ]
  },
  {
   "cell_type": "code",
   "execution_count": 28,
   "metadata": {},
   "outputs": [
    {
     "name": "stdout",
     "output_type": "stream",
     "text": [
      "爬蟲馬拉松\n",
      "01 資料來源與存取\n",
      "02 靜態網頁爬蟲\n",
      "03 動態網頁爬蟲\n"
     ]
    }
   ],
   "source": [
    "import xmltodict\n",
    "with open('../Data/sample.xml') as fh:\n",
    "    doc = dict(xmltodict.parse(fh.read()))\n",
    "print(doc['CUPOY']['Title'])\n",
    "Chapters = doc['CUPOY']['Chapters']['Chapter']\n",
    "for Chapter in Chapters:\n",
    "    print(Chapter['@name'], Chapter['#text'])\n",
    "    # name,text前面要加@,#與鍵值做區別"
   ]
  },
  {
   "cell_type": "markdown",
   "metadata": {},
   "source": [
    "### 根據範例檔案的結果：\n",
    "\n",
    "1. 請問高雄市有多少地區有溫度資料？\n",
    "2. 請取出每一個地區所記錄的第一個時間點跟溫度\n",
    "3. 請取出第一個地區所記錄的每一個時間點跟溫度"
   ]
  },
  {
   "cell_type": "code",
   "execution_count": 21,
   "metadata": {},
   "outputs": [],
   "source": [
    "import urllib.request\n",
    "import zipfile\n",
    "res = \"http://opendata.cwb.gov.tw/govdownload?dataid=F-D0047-093&authorizationkey=rdec-key-123-45678-011121314\"\n",
    "urllib.request.urlretrieve(res, '../Data/example.zip')\n",
    "zipfile.ZipFile('../Data/example.zip').extractall('../Data/example')\n",
    "# 可extract到自訂的目標資料夾"
   ]
  },
  {
   "cell_type": "code",
   "execution_count": 86,
   "metadata": {},
   "outputs": [
    {
     "name": "stdout",
     "output_type": "stream",
     "text": [
      "鹽埕區\n",
      "鼓山區\n",
      "左營區\n",
      "楠梓區\n",
      "三民區\n",
      "新興區\n",
      "前金區\n",
      "苓雅區\n",
      "前鎮區\n",
      "旗津區\n",
      "小港區\n",
      "鳳山區\n",
      "林園區\n",
      "大寮區\n",
      "大樹區\n",
      "大社區\n",
      "仁武區\n",
      "鳥松區\n",
      "岡山區\n",
      "橋頭區\n",
      "燕巢區\n",
      "田寮區\n",
      "阿蓮區\n",
      "路竹區\n",
      "湖內區\n",
      "茄萣區\n",
      "永安區\n",
      "彌陀區\n",
      "梓官區\n",
      "旗山區\n",
      "美濃區\n",
      "六龜區\n",
      "甲仙區\n",
      "杉林區\n",
      "內門區\n",
      "茂林區\n",
      "桃源區\n",
      "那瑪夏區\n",
      "38 個地區有溫度資料\n"
     ]
    }
   ],
   "source": [
    "# 1. 請問高雄市有多少地區有溫度資料？\n",
    "\n",
    "import xmltodict \n",
    "with open('../Data/example/64_72hr_CH.xml') as f:\n",
    "    doc = dict(xmltodict.parse(f.read()))\n",
    "locs = doc['cwbopendata']['dataset']['locations']['location']\n",
    "num = 0\n",
    "for loc in locs:\n",
    "    num += 1\n",
    "    print(loc['locationName'])\n",
    "print(num, '個地區有溫度資料')"
   ]
  },
  {
   "cell_type": "code",
   "execution_count": 85,
   "metadata": {},
   "outputs": [
    {
     "name": "stdout",
     "output_type": "stream",
     "text": [
      "鹽埕區 2020-03-12T18:00:00+08:00 27 攝氏度\n",
      "鼓山區 2020-03-12T18:00:00+08:00 27 攝氏度\n",
      "左營區 2020-03-12T18:00:00+08:00 27 攝氏度\n",
      "楠梓區 2020-03-12T18:00:00+08:00 28 攝氏度\n",
      "三民區 2020-03-12T18:00:00+08:00 27 攝氏度\n",
      "新興區 2020-03-12T18:00:00+08:00 28 攝氏度\n",
      "前金區 2020-03-12T18:00:00+08:00 27 攝氏度\n",
      "苓雅區 2020-03-12T18:00:00+08:00 28 攝氏度\n",
      "前鎮區 2020-03-12T18:00:00+08:00 27 攝氏度\n",
      "旗津區 2020-03-12T18:00:00+08:00 27 攝氏度\n",
      "小港區 2020-03-12T18:00:00+08:00 28 攝氏度\n",
      "鳳山區 2020-03-12T18:00:00+08:00 28 攝氏度\n",
      "林園區 2020-03-12T18:00:00+08:00 28 攝氏度\n",
      "大寮區 2020-03-12T18:00:00+08:00 28 攝氏度\n",
      "大樹區 2020-03-12T18:00:00+08:00 28 攝氏度\n",
      "大社區 2020-03-12T18:00:00+08:00 28 攝氏度\n",
      "仁武區 2020-03-12T18:00:00+08:00 28 攝氏度\n",
      "鳥松區 2020-03-12T18:00:00+08:00 28 攝氏度\n",
      "岡山區 2020-03-12T18:00:00+08:00 27 攝氏度\n",
      "橋頭區 2020-03-12T18:00:00+08:00 28 攝氏度\n",
      "燕巢區 2020-03-12T18:00:00+08:00 27 攝氏度\n",
      "田寮區 2020-03-12T18:00:00+08:00 26 攝氏度\n",
      "阿蓮區 2020-03-12T18:00:00+08:00 26 攝氏度\n",
      "路竹區 2020-03-12T18:00:00+08:00 27 攝氏度\n",
      "湖內區 2020-03-12T18:00:00+08:00 26 攝氏度\n",
      "茄萣區 2020-03-12T18:00:00+08:00 25 攝氏度\n",
      "永安區 2020-03-12T18:00:00+08:00 26 攝氏度\n",
      "彌陀區 2020-03-12T18:00:00+08:00 26 攝氏度\n",
      "梓官區 2020-03-12T18:00:00+08:00 26 攝氏度\n",
      "旗山區 2020-03-12T18:00:00+08:00 26 攝氏度\n",
      "美濃區 2020-03-12T18:00:00+08:00 27 攝氏度\n",
      "六龜區 2020-03-12T18:00:00+08:00 24 攝氏度\n",
      "甲仙區 2020-03-12T18:00:00+08:00 25 攝氏度\n",
      "杉林區 2020-03-12T18:00:00+08:00 26 攝氏度\n",
      "內門區 2020-03-12T18:00:00+08:00 26 攝氏度\n",
      "茂林區 2020-03-12T18:00:00+08:00 25 攝氏度\n",
      "桃源區 2020-03-12T18:00:00+08:00 23 攝氏度\n",
      "那瑪夏區 2020-03-12T18:00:00+08:00 21 攝氏度\n"
     ]
    }
   ],
   "source": [
    "# 2. 請取出每一個地區所記錄的第一個時間點跟溫度\n",
    "\n",
    "with open('../Data/example/64_72hr_CH.xml') as f:\n",
    "    doc = dict(xmltodict.parse(f.read()))\n",
    "locs = doc['cwbopendata']['dataset']['locations']['location']\n",
    "for loc in locs:\n",
    "    i = loc['weatherElement'][0]['time'][0]\n",
    "    print(loc['locationName'], i['dataTime'], i['elementValue']['value'], i['elementValue']['measures'])"
   ]
  },
  {
   "cell_type": "code",
   "execution_count": 88,
   "metadata": {},
   "outputs": [
    {
     "name": "stdout",
     "output_type": "stream",
     "text": [
      "2020-03-12T18:00:00+08:00 27 攝氏度\n",
      "2020-03-12T21:00:00+08:00 26 攝氏度\n",
      "2020-03-13T00:00:00+08:00 26 攝氏度\n",
      "2020-03-13T03:00:00+08:00 25 攝氏度\n",
      "2020-03-13T06:00:00+08:00 24 攝氏度\n",
      "2020-03-13T09:00:00+08:00 26 攝氏度\n",
      "2020-03-13T12:00:00+08:00 28 攝氏度\n",
      "2020-03-13T15:00:00+08:00 28 攝氏度\n",
      "2020-03-13T18:00:00+08:00 26 攝氏度\n",
      "2020-03-13T21:00:00+08:00 25 攝氏度\n",
      "2020-03-14T00:00:00+08:00 24 攝氏度\n",
      "2020-03-14T03:00:00+08:00 23 攝氏度\n",
      "2020-03-14T06:00:00+08:00 23 攝氏度\n",
      "2020-03-14T09:00:00+08:00 23 攝氏度\n",
      "2020-03-14T12:00:00+08:00 25 攝氏度\n",
      "2020-03-14T15:00:00+08:00 24 攝氏度\n",
      "2020-03-14T18:00:00+08:00 23 攝氏度\n",
      "2020-03-14T21:00:00+08:00 22 攝氏度\n",
      "2020-03-15T00:00:00+08:00 21 攝氏度\n",
      "2020-03-15T03:00:00+08:00 20 攝氏度\n",
      "2020-03-15T06:00:00+08:00 19 攝氏度\n",
      "2020-03-15T09:00:00+08:00 21 攝氏度\n",
      "2020-03-15T12:00:00+08:00 24 攝氏度\n",
      "2020-03-15T15:00:00+08:00 24 攝氏度\n"
     ]
    }
   ],
   "source": [
    "# 3. 請取出第一個地區所記錄的每一個時間點跟溫度\n",
    "\n",
    "with open('../Data/example/64_72hr_CH.xml') as f:\n",
    "    doc = dict(xmltodict.parse(f.read()))\n",
    "locs = doc['cwbopendata']['dataset']['locations']['location'][0]['weatherElement'][0]['time']\n",
    "for time in locs:\n",
    "    print(time['dataTime'], time['elementValue']['value'], time['elementValue']['measures'])"
   ]
  }
 ],
 "metadata": {
  "kernelspec": {
   "display_name": "Python 3",
   "language": "python",
   "name": "python3"
  },
  "language_info": {
   "codemirror_mode": {
    "name": "ipython",
    "version": 3
   },
   "file_extension": ".py",
   "mimetype": "text/x-python",
   "name": "python",
   "nbconvert_exporter": "python",
   "pygments_lexer": "ipython3",
   "version": "3.7.4"
  }
 },
 "nbformat": 4,
 "nbformat_minor": 2
}
