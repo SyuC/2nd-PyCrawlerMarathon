{
 "cells": [
  {
   "cell_type": "markdown",
   "metadata": {},
   "source": [
    "# API 資料串接 - 以 Dcard API 實作範例\n",
    "\n",
    "* 了解 Dcard API 使用方式與回傳內容\n",
    "* 撰寫程式存取 API 且解析 JSON 格式資料\n"
   ]
  },
  {
   "cell_type": "markdown",
   "metadata": {},
   "source": [
    "## 作業目標\n",
    "\n",
    "* 請利用 API: https://www.dcard.tw/_api/forums/pet/posts?popular=true 回答下列問題：\n",
    "\n",
    "1. 這個 API 一次會回傳幾筆資料？每一筆資料包含哪些欄位？\n",
    "2. 取出每一筆資料的「標題」、「貼文時間」、「留言人數」、「按讚人數」\n",
    "3. 計算熱門/非熱門文章的「平均留言人數」與「平均按讚人數」"
   ]
  },
  {
   "cell_type": "code",
   "execution_count": 35,
   "metadata": {},
   "outputs": [
    {
     "name": "stdout",
     "output_type": "stream",
     "text": [
      "一次回傳 30 筆資料\n",
      "每一筆資料包含： ['id', 'title', 'excerpt', 'anonymousSchool', 'anonymousDepartment', 'pinned', 'forumId', 'replyId', 'createdAt', 'updatedAt', 'commentCount', 'likeCount', 'withNickname', 'tags', 'topics', 'meta', 'forumName', 'forumAlias', 'gender', 'school', 'department', 'replyTitle', 'mediaMeta', 'reactions', 'hidden', 'customStyle', 'isSuspiciousAccount', 'layout', 'withImages', 'withVideos', 'media', 'reportReasonText', 'postAvatar']\n"
     ]
    }
   ],
   "source": [
    "# 1. 這個 API 一次會回傳幾筆資料？每一筆資料包含哪些欄位？\n",
    "\n",
    "import requests\n",
    "r = requests.get('https://www.dcard.tw/_api/forums/pet/posts?popular=true')\n",
    "response = r.text\n",
    "\n",
    "import json\n",
    "data = json.loads(response)\n",
    "cnt = 0\n",
    "\n",
    "for d in data:\n",
    "    cnt += 1\n",
    "print('一次回傳', cnt, '筆資料')    \n",
    "\n",
    "list = []\n",
    "for e in data[0]:\n",
    "    list.append(e)\n",
    "print('每一筆資料包含：', list)"
   ]
  },
  {
   "cell_type": "code",
   "execution_count": 36,
   "metadata": {},
   "outputs": [
    {
     "name": "stdout",
     "output_type": "stream",
     "text": [
      "標題： ['玩一天的麻糬', '🦎我的小守宮🦎', '「⚠️毛小孩家長注意⚠️」\\n去魚X魚泰山店寵物美容卻被弄到骨折', '台中黃金獵犬天堂💗', '黃金鼠睡覺🐹', '求解 怎麼讓貓不把我的鎖骨當床', '肥包🐈', '浪貓 #', '想請教自家狗狗品種', '如何陪伴你的狗成長? 2.做個令牠敬佩的領導', '跌倒的蚊子(・∀・)', '是時候了嗎？', '犬種介紹特輯15 小鋼炮 約克夏梗~', '師大虐狗朱女領養貓？', '我媽說要戴口罩才能一起玩!', '越來越有個性的肥弟', '求主子照片多一點', '當你不再家，家裡的寵物在...', '#電繪 寵物畫像', '小弟-提摩', '打瞌睡成上癮', '協尋主人', '素顏', '喜歡玩海盜船的貓', '嗚嗚對不起我不該偷拍你的', '#狗 標準型貴賓的巨變日記 03', '問 新手養貓 這是貓癬或貓黴菌嗎', '沉重的愛', '給。我。飯。', '球蟒生病了嗎']\n",
      "貼文時間： ['2020-03-18T04:29:18.050Z', '2020-03-18T07:15:57.559Z', '2020-03-19T01:40:46.997Z', '2020-03-19T07:28:28.449Z', '2020-03-18T02:38:53.466Z', '2020-03-18T13:00:17.814Z', '2020-03-18T14:17:22.316Z', '2020-03-18T15:30:42.273Z', '2020-03-18T19:05:40.672Z', '2020-03-18T15:55:21.280Z', '2020-03-18T13:47:34.688Z', '2020-03-18T17:46:52.664Z', '2020-03-18T09:39:04.929Z', '2020-03-19T07:00:50.065Z', '2020-03-19T01:28:15.331Z', '2020-03-18T03:49:36.688Z', '2020-03-19T05:41:10.295Z', '2020-03-19T05:25:37.375Z', '2020-03-19T05:15:50.631Z', '2020-03-19T02:25:15.690Z', '2020-03-18T14:01:29.721Z', '2020-03-18T11:53:54.237Z', '2020-03-19T05:04:28.519Z', '2020-03-19T06:57:58.687Z', '2020-03-19T06:43:51.789Z', '2020-03-19T02:50:29.802Z', '2020-03-18T10:10:20.726Z', '2020-03-19T10:01:18.556Z', '2020-03-19T07:18:57.081Z', '2020-03-18T18:11:27.858Z']\n",
      "留言人數： [15, 13, 6, 10, 2, 5, 2, 2, 4, 3, 6, 2, 7, 5, 1, 2, 0, 3, 5, 5, 2, 0, 0, 1, 0, 2, 3, 0, 1, 7]\n",
      "按讚人數 [152, 85, 71, 37, 27, 26, 25, 20, 16, 16, 16, 15, 15, 14, 13, 10, 9, 9, 8, 7, 7, 7, 6, 5, 5, 5, 4, 3, 3, 3]\n"
     ]
    }
   ],
   "source": [
    "# 2. 取出每一筆資料的「標題」、「貼文時間」、「留言人數」、「按讚人數」\n",
    "\n",
    "title = []\n",
    "crtAt = []\n",
    "comCnt = []\n",
    "likCnt = []\n",
    "for d in data:\n",
    "    title.append(d['title'])\n",
    "    crtAt.append(d['createdAt'])\n",
    "    comCnt.append(d['commentCount'])\n",
    "    likCnt.append(d['likeCount'])\n",
    "print('標題：',title)\n",
    "print('貼文時間：', crtAt)\n",
    "print('留言人數：', comCnt)\n",
    "print('按讚人數', likCnt)"
   ]
  },
  {
   "cell_type": "code",
   "execution_count": 34,
   "metadata": {},
   "outputs": [
    {
     "name": "stdout",
     "output_type": "stream",
     "text": [
      "熱門文章平均留言人數： 9.666666666666666\n",
      "熱門文章平均按讚人數 78.33333333333333\n",
      "非熱門文章平均留言人數 2.7037037037037037\n",
      "非熱門文章平均按讚人數 9.444444444444445\n"
     ]
    }
   ],
   "source": [
    "# 3. 計算熱門/非熱門文章的「平均留言人數」與「平均按讚人數」\n",
    "\n",
    "hotComcnt = 0\n",
    "hotLikcnt = 0\n",
    "nhotComcnt = 0\n",
    "nhotLikcnt = 0\n",
    "hotMean_1 = 0\n",
    "hotMean_2 = 0\n",
    "nhotMean_1 =0\n",
    "nhotMean_2 =0\n",
    "cnt1 = 0\n",
    "cnt2 = 0\n",
    "\n",
    "for d in data:\n",
    "    if d['likeCount'] >= 30:\n",
    "        hotComcnt += d['commentCount']\n",
    "        hotLikcnt += d['likeCount']\n",
    "        cnt1 += 1\n",
    "    else:\n",
    "        nhotComcnt += d['commentCount']\n",
    "        nhotLikcnt += d['likeCount']\n",
    "        cnt2 += 1\n",
    "hotMean_1 = hotComcnt/cnt1\n",
    "hotMean_2 = hotLikcnt/cnt1\n",
    "nhotMean_1 = nhotComcnt/cnt2\n",
    "nhotMean_2 = nhotLikcnt/cnt2\n",
    "print('熱門文章平均留言人數：', hotMean_1)\n",
    "print('熱門文章平均按讚人數', hotMean_2)\n",
    "print('非熱門文章平均留言人數', nhotMean_1)\n",
    "print('非熱門文章平均按讚人數', nhotMean_2)"
   ]
  }
 ],
 "metadata": {
  "kernelspec": {
   "display_name": "Python 3",
   "language": "python",
   "name": "python3"
  },
  "language_info": {
   "codemirror_mode": {
    "name": "ipython",
    "version": 3
   },
   "file_extension": ".py",
   "mimetype": "text/x-python",
   "name": "python",
   "nbconvert_exporter": "python",
   "pygments_lexer": "ipython3",
   "version": "3.7.4"
  }
 },
 "nbformat": 4,
 "nbformat_minor": 2
}
