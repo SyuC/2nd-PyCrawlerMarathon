{
 "cells": [
  {
   "cell_type": "markdown",
   "metadata": {},
   "source": [
    "# API 資料串接 - 以 Dcard API 實作範例\n",
    "\n",
    "* 了解 Dcard API 使用方式與回傳內容\n",
    "* 撰寫程式存取 API 且解析 JSON 格式資料\n"
   ]
  },
  {
   "cell_type": "markdown",
   "metadata": {},
   "source": [
    "## 作業目標\n",
    "\n",
    "* 請利用 API: https://www.dcard.tw/_api/forums/pet/posts?popular=true 回答下列問題：\n",
    "\n",
    "1. 這個 API 一次會回傳幾筆資料？每一筆資料包含哪些欄位？\n",
    "2. 取出每一筆資料的「標題」、「貼文時間」、「留言人數」、「按讚人數」\n",
    "3. 計算熱門/非熱門文章的「平均留言人數」與「平均按讚人數」"
   ]
  },
  {
   "cell_type": "code",
   "execution_count": 1,
   "metadata": {},
   "outputs": [
    {
     "name": "stdout",
     "output_type": "stream",
     "text": [
      "一次回傳 30 筆資料\n",
      "每一筆資料包含： ['id', 'title', 'excerpt', 'anonymousSchool', 'anonymousDepartment', 'pinned', 'forumId', 'replyId', 'createdAt', 'updatedAt', 'commentCount', 'likeCount', 'withNickname', 'tags', 'topics', 'meta', 'forumName', 'forumAlias', 'gender', 'school', 'department', 'replyTitle', 'mediaMeta', 'reactions', 'hidden', 'customStyle', 'isSuspiciousAccount', 'layout', 'withImages', 'withVideos', 'media', 'reportReasonText', 'postAvatar']\n"
     ]
    }
   ],
   "source": [
    "# 1. 這個 API 一次會回傳幾筆資料？每一筆資料包含哪些欄位？\n",
    "\n",
    "import requests\n",
    "r = requests.get('https://www.dcard.tw/_api/forums/pet/posts?popular=true')\n",
    "response = r.text\n",
    "\n",
    "import json\n",
    "data = json.loads(response)\n",
    "cnt = 0\n",
    "\n",
    "for d in data:\n",
    "    cnt += 1\n",
    "print('一次回傳', cnt, '筆資料')    \n",
    "\n",
    "list = []\n",
    "for e in data[0]:\n",
    "    list.append(e)\n",
    "print('每一筆資料包含：', list)"
   ]
  },
  {
   "cell_type": "code",
   "execution_count": 2,
   "metadata": {},
   "outputs": [
    {
     "name": "stdout",
     "output_type": "stream",
     "text": [
      "標題： ['「⚠️毛小孩家長注意⚠️」\\n去魚X魚泰山店寵物美容卻被弄到骨折', '🦎我的小守宮🦎', '（更)台中黃金獵犬天堂💗', '求解 怎麼讓貓不把我的鎖骨當床', '師大虐狗朱女領養貓？', '憨吉的各種表情包', '浪貓 #', '肥包🐈', '如何陪伴你的狗成長? 2.做個令牠敬佩的領導', '是時候了嗎？', '想請教自家狗狗品種', '犬種介紹特輯15 小鋼炮 約克夏梗~', '是黃金獵犬 不是拉不拉多啦🐾', '跌倒的蚊子(・∀・)', '#電繪 寵物畫像', '我媽說要戴口罩才能一起玩!', '嗚嗚對不起我不該偷拍你的', '求主子照片多一點', '當你不再家，家裡的寵物在...', '兔子的舌頭有多大👅', '#狗 標準型貴賓的巨變日記 03', '協尋主人', '沉重的愛', '素顏', '小弟-提摩', '有誰家的天使貓走丟嗎？', '睡到壞掉的柴柴', '不牽繩卻責怪騎士的不知檢討恐龍家長', '喜歡玩海盜船的貓', '打瞌睡成上癮']\n",
      "貼文時間： ['2020-03-19T01:40:46.997Z', '2020-03-18T07:15:57.559Z', '2020-03-19T07:28:28.449Z', '2020-03-18T13:00:17.814Z', '2020-03-19T07:00:50.065Z', '2020-03-19T11:32:14.476Z', '2020-03-18T15:30:42.273Z', '2020-03-18T14:17:22.316Z', '2020-03-18T15:55:21.280Z', '2020-03-18T17:46:52.664Z', '2020-03-18T19:05:40.672Z', '2020-03-18T09:39:04.929Z', '2020-03-19T13:04:20.483Z', '2020-03-18T13:47:34.688Z', '2020-03-19T05:15:50.631Z', '2020-03-19T01:28:15.331Z', '2020-03-19T06:43:51.789Z', '2020-03-19T05:41:10.295Z', '2020-03-19T05:25:37.375Z', '2020-03-19T12:29:54.232Z', '2020-03-19T02:50:29.802Z', '2020-03-18T11:53:54.237Z', '2020-03-19T10:01:18.556Z', '2020-03-19T05:04:28.519Z', '2020-03-19T02:25:15.690Z', '2020-03-19T11:52:47.476Z', '2020-03-19T11:45:22.872Z', '2020-03-19T11:10:16.602Z', '2020-03-19T06:57:58.687Z', '2020-03-18T14:01:29.721Z']\n",
      "留言人數： [17, 19, 19, 11, 19, 8, 2, 2, 9, 2, 4, 7, 2, 6, 7, 1, 1, 0, 3, 1, 2, 0, 3, 0, 5, 2, 0, 2, 1, 2]\n",
      "按讚人數 [274, 229, 154, 76, 44, 39, 33, 29, 27, 20, 19, 19, 18, 17, 16, 16, 12, 12, 12, 9, 9, 9, 8, 8, 8, 7, 7, 7, 7, 7]\n"
     ]
    }
   ],
   "source": [
    "# 2. 取出每一筆資料的「標題」、「貼文時間」、「留言人數」、「按讚人數」\n",
    "\n",
    "title = []\n",
    "crtAt = []\n",
    "comCnt = []\n",
    "likCnt = []\n",
    "for d in data:\n",
    "    title.append(d['title'])\n",
    "    crtAt.append(d['createdAt'])\n",
    "    comCnt.append(d['commentCount'])\n",
    "    likCnt.append(d['likeCount'])\n",
    "print('標題：',title)\n",
    "print('貼文時間：', crtAt)\n",
    "print('留言人數：', comCnt)\n",
    "print('按讚人數', likCnt)"
   ]
  },
  {
   "cell_type": "code",
   "execution_count": 4,
   "metadata": {},
   "outputs": [
    {
     "name": "stdout",
     "output_type": "stream",
     "text": [
      "熱門文章平均留言人數： 2.5 熱門文章平均按讚人數： 10.233333333333333\n",
      "非熱門文章平均留言人數： 5.0 非熱門文章平均按讚人數： 20.533333333333335\n"
     ]
    }
   ],
   "source": [
    "# 3. 計算熱門/非熱門文章的「平均留言人數」與「平均按讚人數」\n",
    "\n",
    "comCount = 0\n",
    "likCount = 0\n",
    "for d in data:\n",
    "    comCount += d['commentCount']\n",
    "    likCount += d['likeCount']\n",
    "print('熱門文章平均留言人數：', comCount/len(data), '熱門文章平均按讚人數：', likCount/len(data))\n",
    "\n",
    "r = requests.get('https://www.dcard.tw/_api/forums/pet/posts?popular=false')\n",
    "response = r.text\n",
    "data = json.loads(response)\n",
    "for d in data:\n",
    "    comCount += d['commentCount']\n",
    "    likCount += d['likeCount']\n",
    "print('非熱門文章平均留言人數：', comCount/len(data), '非熱門文章平均按讚人數：', likCount/len(data))"
   ]
  }
 ],
 "metadata": {
  "kernelspec": {
   "display_name": "Python 3",
   "language": "python",
   "name": "python3"
  },
  "language_info": {
   "codemirror_mode": {
    "name": "ipython",
    "version": 3
   },
   "file_extension": ".py",
   "mimetype": "text/x-python",
   "name": "python",
   "nbconvert_exporter": "python",
   "pygments_lexer": "ipython3",
   "version": "3.7.4"
  }
 },
 "nbformat": 4,
 "nbformat_minor": 2
}
