{
 "cells": [
  {
   "cell_type": "markdown",
   "metadata": {},
   "source": [
    "# 其他工具：Grab、PyQuery\n",
    "\n",
    "\n",
    "* 利用 Grab 套件的存取 HTML 資源\n",
    "* 利用 PyQuery 套件的解析 HTML 格式\n"
   ]
  },
  {
   "cell_type": "markdown",
   "metadata": {},
   "source": [
    "## 作業目標\n",
    "\n",
    "將之前用 requests + beatifulsoup 實作的方式，改寫成 grab + pyquery，並且比較有哪些地方不同。\n",
    "\n",
    "\n",
    "\n"
   ]
  },
  {
   "cell_type": "markdown",
   "metadata": {},
   "source": [
    "## requests + BeautifulSoup\n"
   ]
  },
  {
   "cell_type": "code",
   "execution_count": 41,
   "metadata": {},
   "outputs": [
    {
     "data": {
      "text/plain": [
       "str"
      ]
     },
     "execution_count": 41,
     "metadata": {},
     "output_type": "execute_result"
    }
   ],
   "source": [
    "import requests\n",
    "\n",
    "r = requests.get('https://google.com')\n",
    "\n",
    "type(r.text)"
   ]
  },
  {
   "cell_type": "code",
   "execution_count": 42,
   "metadata": {},
   "outputs": [
    {
     "data": {
      "text/plain": [
       "bs4.BeautifulSoup"
      ]
     },
     "execution_count": 42,
     "metadata": {},
     "output_type": "execute_result"
    }
   ],
   "source": [
    "from bs4 import BeautifulSoup\n",
    "\n",
    "type(BeautifulSoup(r.text))"
   ]
  },
  {
   "cell_type": "markdown",
   "metadata": {},
   "source": [
    "## Grab + PyQuery"
   ]
  },
  {
   "cell_type": "code",
   "execution_count": 5,
   "metadata": {},
   "outputs": [
    {
     "name": "stdout",
     "output_type": "stream",
     "text": [
      "Requirement already up-to-date: setuptools in /opt/anaconda3/lib/python3.7/site-packages (46.1.3)\n",
      "Requirement already up-to-date: pip in /opt/anaconda3/lib/python3.7/site-packages (20.0.2)\n",
      "Note: you may need to restart the kernel to use updated packages.\n"
     ]
    }
   ],
   "source": [
    "pip install -U setuptools pip"
   ]
  },
  {
   "cell_type": "code",
   "execution_count": 7,
   "metadata": {
    "scrolled": true
   },
   "outputs": [
    {
     "name": "stdout",
     "output_type": "stream",
     "text": [
      "Processing /Users/daniel/Library/Caches/pip/wheels/42/37/49/63cd1902086963e8a9e169ca60d89326c9e24adb6ffcfd5d06/grab-0.6.41-py3-none-any.whl\n",
      "Requirement already satisfied, skipping upgrade: defusedxml in /opt/anaconda3/lib/python3.7/site-packages (from grab) (0.6.0)\n",
      "Requirement already satisfied, skipping upgrade: user-agent in /opt/anaconda3/lib/python3.7/site-packages (from grab) (0.1.9)\n",
      "Collecting lxml; platform_system != \"Windows\"\n",
      "  Downloading lxml-4.5.0-cp37-cp37m-macosx_10_9_x86_64.whl (4.5 MB)\n",
      "\u001b[K     |████████████████████████████████| 4.5 MB 438 kB/s eta 0:00:01\n",
      "\u001b[?25hRequirement already satisfied, skipping upgrade: six in /opt/anaconda3/lib/python3.7/site-packages (from grab) (1.14.0)\n",
      "Requirement already satisfied, skipping upgrade: weblib>=0.1.28 in /opt/anaconda3/lib/python3.7/site-packages (from grab) (0.1.30)\n",
      "Processing /Users/daniel/Library/Caches/pip/wheels/d5/ff/5a/2a716fe10774bf66a5163a9ab95c997f596c29ddf582486ea3/pycurl-7.43.0.1-cp37-cp37m-macosx_10_9_x86_64.whl\n",
      "Requirement already satisfied, skipping upgrade: selection in /opt/anaconda3/lib/python3.7/site-packages (from grab) (0.0.14)\n",
      "Requirement already satisfied, skipping upgrade: pytils in /opt/anaconda3/lib/python3.7/site-packages (from weblib>=0.1.28->grab) (0.3)\n",
      "Installing collected packages: lxml, pycurl, grab\n",
      "Successfully installed grab-0.6.41 lxml-4.5.0 pycurl-7.43.0.1\n",
      "Note: you may need to restart the kernel to use updated packages.\n"
     ]
    }
   ],
   "source": [
    "pip install -U grab"
   ]
  },
  {
   "cell_type": "code",
   "execution_count": 9,
   "metadata": {},
   "outputs": [
    {
     "name": "stdout",
     "output_type": "stream",
     "text": [
      "Collecting pyquery\n",
      "  Downloading pyquery-1.4.1-py2.py3-none-any.whl (22 kB)\n",
      "Collecting cssselect>0.7.9\n",
      "  Downloading cssselect-1.1.0-py2.py3-none-any.whl (16 kB)\n",
      "Requirement already satisfied, skipping upgrade: lxml>=2.1 in /opt/anaconda3/lib/python3.7/site-packages (from pyquery) (4.5.0)\n",
      "Installing collected packages: cssselect, pyquery\n",
      "Successfully installed cssselect-1.1.0 pyquery-1.4.1\n",
      "Note: you may need to restart the kernel to use updated packages.\n"
     ]
    }
   ],
   "source": [
    "pip install -U pyquery"
   ]
  },
  {
   "cell_type": "code",
   "execution_count": 43,
   "metadata": {
    "scrolled": false
   },
   "outputs": [
    {
     "data": {
      "text/plain": [
       "bytes"
      ]
     },
     "execution_count": 43,
     "metadata": {},
     "output_type": "execute_result"
    }
   ],
   "source": [
    "from grab import Grab\n",
    "\n",
    "g = Grab()\n",
    "resp = g.go('https://google.com')\n",
    "\n",
    "type(resp.body)"
   ]
  },
  {
   "cell_type": "code",
   "execution_count": 34,
   "metadata": {},
   "outputs": [
    {
     "name": "stdout",
     "output_type": "stream",
     "text": [
      "<class 'pyquery.pyquery.PyQuery'> Google\n"
     ]
    }
   ],
   "source": [
    "from pyquery import PyQuery as pq\n",
    "\n",
    "doc = pq(resp.body)\n",
    "title = doc('title')\n",
    "\n",
    "print(type(title), title.text())"
   ]
  }
 ],
 "metadata": {
  "kernelspec": {
   "display_name": "Python 3",
   "language": "python",
   "name": "python3"
  },
  "language_info": {
   "codemirror_mode": {
    "name": "ipython",
    "version": 3
   },
   "file_extension": ".py",
   "mimetype": "text/x-python",
   "name": "python",
   "nbconvert_exporter": "python",
   "pygments_lexer": "ipython3",
   "version": "3.7.4"
  }
 },
 "nbformat": 4,
 "nbformat_minor": 2
}
